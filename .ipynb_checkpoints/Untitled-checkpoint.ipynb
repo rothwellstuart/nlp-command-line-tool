{
 "cells": [
  {
   "cell_type": "code",
   "execution_count": 1,
   "metadata": {
    "collapsed": true
   },
   "outputs": [],
   "source": [
    "### 00_main"
   ]
  },
  {
   "cell_type": "code",
   "execution_count": 12,
   "metadata": {
    "collapsed": true
   },
   "outputs": [],
   "source": [
    "import localfunctions, os"
   ]
  },
  {
   "cell_type": "code",
   "execution_count": 3,
   "metadata": {},
   "outputs": [
    {
     "name": "stdout",
     "output_type": "stream",
     "text": [
      "WELCOME to the NLP command line tool demo!\n",
      "\n",
      "\n",
      "PLease choose from the following options:\n",
      "Enter S or start to start the demo\n",
      "Enter x, q or quit to leave the demo\n"
     ]
    }
   ],
   "source": [
    "localfunctions.print_welcome_message()"
   ]
  },
  {
   "cell_type": "code",
   "execution_count": 5,
   "metadata": {},
   "outputs": [
    {
     "name": "stdout",
     "output_type": "stream",
     "text": [
      "Enter your selection:w\n",
      "Sorry, you selected an invalide option. Please select again:\n",
      "Enter your selection:qweqq\n",
      "Sorry, you selected an invalide option. Please select again:\n",
      "Enter your selection:qweq\n",
      "Sorry, you selected an invalide option. Please select again:\n",
      "Enter your selection:s\n",
      "You selected:  S\n"
     ]
    }
   ],
   "source": [
    "valid_userinput_list = ['S', 'START', 'X', 'EXIT', 'Q', 'QUIT']\n",
    "\n",
    "user_input = localfunctions.user_input_validation(valid_userinput_list)"
   ]
  },
  {
   "cell_type": "code",
   "execution_count": 8,
   "metadata": {},
   "outputs": [
    {
     "data": {
      "text/plain": [
       "6"
      ]
     },
     "execution_count": 8,
     "metadata": {},
     "output_type": "execute_result"
    }
   ],
   "source": [
    "valid_userinput_quit = ['X', 'EXIT', 'Q', 'QUIT']\n",
    "valid_userinput_start = ['S', 'START']\n",
    "len(valid_userinput_quit + valid_userinput_start)"
   ]
  },
  {
   "cell_type": "code",
   "execution_count": 9,
   "metadata": {},
   "outputs": [
    {
     "data": {
      "text/plain": [
       "'/home/stuart/Work/dev/command-line-tool'"
      ]
     },
     "execution_count": 9,
     "metadata": {},
     "output_type": "execute_result"
    }
   ],
   "source": [
    "pwd"
   ]
  },
  {
   "cell_type": "code",
   "execution_count": 14,
   "metadata": {},
   "outputs": [
    {
     "data": {
      "text/plain": [
       "'/home/stuart/Work/dev/command-line-tool'"
      ]
     },
     "execution_count": 14,
     "metadata": {},
     "output_type": "execute_result"
    }
   ],
   "source": [
    "curr = os.getcwd()\n",
    "\n",
    "curr"
   ]
  },
  {
   "cell_type": "code",
   "execution_count": 17,
   "metadata": {},
   "outputs": [
    {
     "name": "stdout",
     "output_type": "stream",
     "text": [
      "No\n"
     ]
    }
   ],
   "source": [
    "if not os.path.exists(os.getcwd()):\n",
    "    print(\"Yes\")\n",
    "else:\n",
    "    print(\"No\")"
   ]
  },
  {
   "cell_type": "code",
   "execution_count": 18,
   "metadata": {},
   "outputs": [
    {
     "name": "stdout",
     "output_type": "stream",
     "text": [
      "\u001b[0m\u001b[01;32m00_main.py\u001b[0m*   \u001b[01;34mbuild\u001b[0m/  \u001b[01;32mlocalfunctions.py\u001b[0m*  setup_py2exe.py\r\n",
      "00_main.spec  \u001b[01;34mdist\u001b[0m/   \u001b[01;34m__pycache__\u001b[0m/        Untitled.ipynb\r\n"
     ]
    }
   ],
   "source": [
    "ls"
   ]
  },
  {
   "cell_type": "code",
   "execution_count": 19,
   "metadata": {},
   "outputs": [
    {
     "data": {
      "text/plain": [
       "'/home/stuart/Work/dev/command-line-tool'"
      ]
     },
     "execution_count": 19,
     "metadata": {},
     "output_type": "execute_result"
    }
   ],
   "source": [
    "pwd"
   ]
  },
  {
   "cell_type": "code",
   "execution_count": 22,
   "metadata": {},
   "outputs": [
    {
     "name": "stdout",
     "output_type": "stream",
     "text": [
      "/home\n"
     ]
    }
   ],
   "source": [
    "cd /home"
   ]
  },
  {
   "cell_type": "code",
   "execution_count": null,
   "metadata": {
    "collapsed": true
   },
   "outputs": [],
   "source": []
  }
 ],
 "metadata": {
  "kernelspec": {
   "display_name": "Python 3",
   "language": "python",
   "name": "python3"
  },
  "language_info": {
   "codemirror_mode": {
    "name": "ipython",
    "version": 3
   },
   "file_extension": ".py",
   "mimetype": "text/x-python",
   "name": "python",
   "nbconvert_exporter": "python",
   "pygments_lexer": "ipython3",
   "version": "3.6.3"
  }
 },
 "nbformat": 4,
 "nbformat_minor": 2
}
