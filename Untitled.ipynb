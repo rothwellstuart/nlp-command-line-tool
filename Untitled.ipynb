{
 "cells": [
  {
   "cell_type": "code",
   "execution_count": 1,
   "metadata": {
    "collapsed": true
   },
   "outputs": [],
   "source": [
    "### 00_main"
   ]
  },
  {
   "cell_type": "code",
   "execution_count": 12,
   "metadata": {
    "collapsed": true
   },
   "outputs": [],
   "source": [
    "import localfunctions, os"
   ]
  },
  {
   "cell_type": "code",
   "execution_count": 3,
   "metadata": {},
   "outputs": [
    {
     "name": "stdout",
     "output_type": "stream",
     "text": [
      "WELCOME to the NLP command line tool demo!\n",
      "\n",
      "\n",
      "PLease choose from the following options:\n",
      "Enter S or start to start the demo\n",
      "Enter x, q or quit to leave the demo\n"
     ]
    }
   ],
   "source": [
    "localfunctions.print_welcome_message()"
   ]
  },
  {
   "cell_type": "code",
   "execution_count": 5,
   "metadata": {},
   "outputs": [
    {
     "name": "stdout",
     "output_type": "stream",
     "text": [
      "Enter your selection:w\n",
      "Sorry, you selected an invalide option. Please select again:\n",
      "Enter your selection:qweqq\n",
      "Sorry, you selected an invalide option. Please select again:\n",
      "Enter your selection:qweq\n",
      "Sorry, you selected an invalide option. Please select again:\n",
      "Enter your selection:s\n",
      "You selected:  S\n"
     ]
    }
   ],
   "source": [
    "valid_userinput_list = ['S', 'START', 'X', 'EXIT', 'Q', 'QUIT']\n",
    "\n",
    "user_input = localfunctions.user_input_validation(valid_userinput_list)"
   ]
  },
  {
   "cell_type": "code",
   "execution_count": 8,
   "metadata": {},
   "outputs": [
    {
     "data": {
      "text/plain": [
       "6"
      ]
     },
     "execution_count": 8,
     "metadata": {},
     "output_type": "execute_result"
    }
   ],
   "source": [
    "valid_userinput_quit = ['X', 'EXIT', 'Q', 'QUIT']\n",
    "valid_userinput_start = ['S', 'START']\n",
    "len(valid_userinput_quit + valid_userinput_start)"
   ]
  },
  {
   "cell_type": "code",
   "execution_count": 9,
   "metadata": {},
   "outputs": [
    {
     "data": {
      "text/plain": [
       "'/home/stuart/Work/dev/command-line-tool'"
      ]
     },
     "execution_count": 9,
     "metadata": {},
     "output_type": "execute_result"
    }
   ],
   "source": [
    "pwd"
   ]
  },
  {
   "cell_type": "code",
   "execution_count": 14,
   "metadata": {},
   "outputs": [
    {
     "data": {
      "text/plain": [
       "'/home/stuart/Work/dev/command-line-tool'"
      ]
     },
     "execution_count": 14,
     "metadata": {},
     "output_type": "execute_result"
    }
   ],
   "source": [
    "curr = os.getcwd()\n",
    "\n",
    "curr"
   ]
  },
  {
   "cell_type": "code",
   "execution_count": 17,
   "metadata": {},
   "outputs": [
    {
     "name": "stdout",
     "output_type": "stream",
     "text": [
      "No\n"
     ]
    }
   ],
   "source": [
    "if not os.path.exists(os.getcwd()):\n",
    "    print(\"Yes\")\n",
    "else:\n",
    "    print(\"No\")"
   ]
  },
  {
   "cell_type": "code",
   "execution_count": 18,
   "metadata": {},
   "outputs": [
    {
     "name": "stdout",
     "output_type": "stream",
     "text": [
      "\u001b[0m\u001b[01;32m00_main.py\u001b[0m*   \u001b[01;34mbuild\u001b[0m/  \u001b[01;32mlocalfunctions.py\u001b[0m*  setup_py2exe.py\r\n",
      "00_main.spec  \u001b[01;34mdist\u001b[0m/   \u001b[01;34m__pycache__\u001b[0m/        Untitled.ipynb\r\n"
     ]
    }
   ],
   "source": [
    "ls"
   ]
  },
  {
   "cell_type": "code",
   "execution_count": 19,
   "metadata": {},
   "outputs": [
    {
     "data": {
      "text/plain": [
       "'/home/stuart/Work/dev/command-line-tool'"
      ]
     },
     "execution_count": 19,
     "metadata": {},
     "output_type": "execute_result"
    }
   ],
   "source": [
    "pwd"
   ]
  },
  {
   "cell_type": "code",
   "execution_count": 22,
   "metadata": {},
   "outputs": [
    {
     "name": "stdout",
     "output_type": "stream",
     "text": [
      "/home\n"
     ]
    }
   ],
   "source": [
    "cd /home"
   ]
  },
  {
   "cell_type": "code",
   "execution_count": 23,
   "metadata": {},
   "outputs": [
    {
     "name": "stdout",
     "output_type": "stream",
     "text": [
      "\u001b[0m\u001b[01;34mstuart\u001b[0m/\r\n"
     ]
    }
   ],
   "source": [
    "ls"
   ]
  },
  {
   "cell_type": "code",
   "execution_count": 24,
   "metadata": {},
   "outputs": [
    {
     "name": "stdout",
     "output_type": "stream",
     "text": [
      "/home/stuart\n"
     ]
    }
   ],
   "source": [
    "cd stuart"
   ]
  },
  {
   "cell_type": "code",
   "execution_count": 25,
   "metadata": {},
   "outputs": [
    {
     "name": "stdout",
     "output_type": "stream",
     "text": [
      "\u001b[0m\u001b[01;34manaconda3\u001b[0m/\r\n",
      "\u001b[01;34mAnacondaProjects\u001b[0m/\r\n",
      "\u001b[01;34mDesktop\u001b[0m/\r\n",
      "\u001b[01;34mDocuments\u001b[0m/\r\n",
      "\u001b[01;34mDownloads\u001b[0m/\r\n",
      "examples.desktop\r\n",
      "\u001b[01;34mgoogle-drive\u001b[0m/\r\n",
      "kaggle-blockchain-visualising-daily-bitcoin-recipients.ipynb\r\n",
      "\u001b[01;34mMusic\u001b[0m/\r\n",
      "\u001b[01;34mPictures\u001b[0m/\r\n",
      "\u001b[01;34mPublic\u001b[0m/\r\n",
      "\u001b[01;34mTemplates\u001b[0m/\r\n",
      "trans-bank-cc-all.ods\r\n",
      "Untitled1.ipynb\r\n",
      "Untitled2.ipynb\r\n",
      "Untitled3.ipynb\r\n",
      "Untitled4.ipynb\r\n",
      "Untitled.ipynb\r\n",
      "\u001b[01;34mVideos\u001b[0m/\r\n",
      "\u001b[01;34mWork\u001b[0m/\r\n"
     ]
    }
   ],
   "source": [
    "ls"
   ]
  },
  {
   "cell_type": "code",
   "execution_count": 26,
   "metadata": {},
   "outputs": [
    {
     "name": "stdout",
     "output_type": "stream",
     "text": [
      "/home/stuart/Downloads\n"
     ]
    }
   ],
   "source": [
    "cd Downloads"
   ]
  },
  {
   "cell_type": "code",
   "execution_count": 27,
   "metadata": {},
   "outputs": [
    {
     "name": "stdout",
     "output_type": "stream",
     "text": [
      "01_catalogue_folder_level_v1_3.py\r\n",
      "02_deduping_v1_3.py\r\n",
      "03_cleaning_rules_v1_8.py\r\n",
      "04_catalogue_classification_v1_3.py\r\n",
      "180222 Analytics RfP v2.docx\r\n",
      "1. Process the promotions file (1).ipynb\r\n",
      "1. Process the promotions file.ipynb\r\n",
      "20180309 GEM UL TPO Proposal v1.docx\r\n",
      "2018 GEM UL Promo Evaluation Brief v2.docx\r\n",
      "2018 GEM UL Promo Evaluation Brief v4.docx\r\n",
      "2018 GEM UL Promo Evaluation Brief v6.docx\r\n",
      "222210.pdf\r\n",
      "2. Read in and append big data files for Shampoo & Conditioner only (1).ipynb\r\n",
      "2. Read in and append big data files for Shampoo & Conditioner only.ipynb\r\n",
      "3. Category sales model (1).ipynb\r\n",
      "3. Category sales model.ipynb\r\n",
      "4. Calculate promotions KPIs v6 (1).ipynb\r\n",
      "4. Calculate promotions KPIs v6.ipynb\r\n",
      "Alethia Data Science proposal - March 2018.docx\r\n",
      "Alethia Data Science proposal - March 2018 SR.docx\r\n",
      "Alethia Data Science proposal - March 2018 v2 (1).docx\r\n",
      "Alethia Data Science proposal - March 2018 v2.docx\r\n",
      "Alethia Data Science proposal - March 2018 v3.docx\r\n",
      "Alethia proposal for i4H prediction project - May 2018 - draft.docx\r\n",
      "Alimama translation.pptx\r\n",
      "all_promos_hier.csv\r\n",
      "all_promos_hier.ods\r\n",
      "Andrew Skeen.docx\r\n",
      "Architect Process.docx\r\n",
      "AWS-Comprehend-tutorial.ipynb\r\n",
      "bashscript.sh\r\n",
      "Battersea proposal - with revisions .docx\r\n",
      "\u001b[0m\u001b[01;31mBDEC Data Science Jupyter Notebooks Aug 2017.tar\u001b[0m\r\n",
      "Bluffers Guide structure - draft 2017 09 19 LN feedback.docx\r\n",
      "Brand interactions - effect of substitute products being promoted together v1.1.twbx\r\n",
      "CalendarEvent.ics\r\n",
      "cleaning_rules_v1_7aaa.py\r\n",
      "\u001b[01;34mCode\u001b[0m/\r\n",
      "\u001b[01;34mCode (2)\u001b[0m/\r\n",
      "\u001b[01;31mCode-20180423T202241Z-001.zip\u001b[0m\r\n",
      "\u001b[01;31mCode-20180424T182627Z-001.zip\u001b[0m\r\n",
      "comprehend-gold-standard-evaluation.ipynb\r\n",
      "Contract Agreement for Alethia Clear Returns Debenhams Returns Insight project - August 2017 v2 - BT adj.docx\r\n",
      "corporation-tax payment 26 April 2018.pdf\r\n",
      "CR Consultancy Agreement NN 31.8.17.docx\r\n",
      "credentials.csv\r\n",
      "\u001b[01;34mCSV outputs\u001b[0m/\r\n",
      "\u001b[01;34mCSV outputs (2)\u001b[0m/\r\n",
      "\u001b[01;31mCSV outputs-20180423T202356Z-001.zip\u001b[0m\r\n",
      "\u001b[01;31mCSV outputs-20180424T182503Z-001.zip\u001b[0m\r\n",
      "CT600 - 05.02.2018.pdf\r\n",
      "CT600 - 28.02.2018.pdf\r\n",
      "DataSharedWithBDEC_180216.xlsx\r\n",
      "Debonil Chowdhury.docx\r\n",
      "doc-topics.csv\r\n",
      "\u001b[01;35mDummy query.png\u001b[0m\r\n",
      "EE Subcontractor Agreement - Stuart Rothwell (February 2017) - signed.pdf\r\n",
      "eml (1)\r\n",
      "eml (2)\r\n",
      "event.ics\r\n",
      "Excel & Tableau_ How to transform your spreadsheets into powerful visualisations (1).ics\r\n",
      "Excel & Tableau_ How to transform your spreadsheets into powerful visualisations.ics\r\n",
      "Exploratory Data Analysis on 1 week of Big Data file.ipynb\r\n",
      "Extracted text from Alimama translation.txt\r\n",
      "Extracted text from PW Price market_data update.txt\r\n",
      "gb00b3x7qg63-en.pdf\r\n",
      "gitCredentials.csv\r\n",
      "gold_standard_eval_1_5_all.xlsx\r\n",
      "Haircare Promo Analysis (1).csv\r\n",
      "Haircare Promo Analysis (1).xlsx\r\n",
      "Haircare Promo Analysis.csv\r\n",
      "Haircare Promo Analysis SR.xlsx\r\n",
      "Haircare Promo Analysis.xlsx\r\n",
      "Hemera creds draft.pptx\r\n",
      "HRS_contract_for_services_v1.docx\r\n",
      "iar_template.xls\r\n",
      "index_zoomable_circle_packing_json_local_enron (1).html\r\n",
      "Induction Pack for Daytime Participants 2014 n- pdf.pdf\r\n",
      "KIID-ISIN-GB0001981215-EN-GB.pdf\r\n",
      "Machine Learning for Dummies ebook.pdf\r\n",
      "Meijer Analytics - Promo Evaluation - Project Timeline - March 19th 2018 - Team Friendly.xlsx\r\n",
      "Meijer Data.xlsx\r\n",
      "Meijer promotions evaluation -  progress summary 10th April 2018.docx\r\n",
      "Meijer promotions evaluation -  progress summary 13th April 2018.docx\r\n",
      "NDA Scott Brothers Stuart Rothwell page 1 of 2.pdf\r\n",
      "NDA Scott Brothers Stuart Rothwell page 2 of 2.pdf\r\n",
      "\u001b[01;31mNER gold standard training data-20180306T151526Z-001.zip\u001b[0m\r\n",
      "nn_promo_kpis_v2.ipynb\r\n",
      "nonmatched_upcs.csv\r\n",
      "\u001b[01;34mopenvpn-2.4.5\u001b[0m/\r\n",
      "\u001b[01;31mopenvpn-2.4.5.tar.gz\u001b[0m\r\n",
      "Product Hierarchy.csv\r\n",
      "product_loyalty_v1_0.ipynb\r\n",
      "\u001b[01;35mPromo length audit.png\u001b[0m\r\n",
      "promo_length_crosstab.xlsx\r\n",
      "promo_master_summary.xlsx\r\n",
      "Promotions audit v1.0.ipynb\r\n",
      "PW Price market_data update.pptx\r\n",
      "\u001b[01;34mrtlwifi_new-rock.new_btcoex\u001b[0m/\r\n",
      "\u001b[01;31msav-linux-free-9 (1).tgz\u001b[0m\r\n",
      "sc_agg_day_product_ 4796632.csv\r\n",
      "sc_agg_day_product_ 4958275.csv\r\n",
      "sc_agg_day_product_ 5036511.csv\r\n",
      "sc_agg_day_product_ 5051664.csv\r\n",
      "sc_agg_day_product_ 5196195.csv\r\n",
      "sc_agg_day_product_ 5286667.csv\r\n",
      "sc_day_level_promo_calendar.pkl\r\n",
      "sc_during_and_clean_ 4796632.csv\r\n",
      "sc_during_and_clean_ 4958275.csv\r\n",
      "sc_during_and_clean_ 5036511.csv\r\n",
      "sc_during_and_clean_ 5051664.csv\r\n",
      "sc_during_and_clean_ 5196195.csv\r\n",
      "sc_during_and_clean_ 5286667.csv\r\n",
      "Scott Brothers Group - Mutual NDA - Stuart Rothwell.pdf\r\n",
      "sc_promo_lookup.pkl\r\n",
      "sc_promo_upc_lookup.pkl\r\n",
      "sc_trans_all.pkl\r\n",
      "SRA01093-003428- CH Submission Receipt.pdf\r\n",
      "SRA01093-Accounts to registrar (filleted) - small 17.3-ABR-AD-20180410.PDF\r\n",
      "SRA01093-HMRC Submission Receipt.pdf\r\n",
      "SRA01093-Limited company accounts 17.3-LTD-AD-20180410.PDF\r\n",
      "SRA01093-LTD Draft (1).pdf\r\n",
      "SRA01093-LTD Draft.pdf\r\n",
      "SRA01093-TBL Draft.pdf\r\n",
      "SR Analytics Limited - Invoice #25.pdf\r\n",
      "SR Analytics Limited - Invoice #26.pdf\r\n",
      "SR Analytics Limited - Invoice #27.pdf\r\n",
      "Steven Hicklin (2).docx\r\n",
      "Stuart Rothwell CV Feb 2018.docx\r\n",
      "Stuart Rothwell CV Feb 2018.odt\r\n",
      "Stuart Rothwell CV Feb 2018.pdf\r\n",
      "Stuart Rothwell CV July 2017.docx\r\n",
      "substitutability_v1_0.ipynb\r\n",
      "substitutability_v1_1.ipynb\r\n",
      "SYOB_Consultants and Contractors.pptx\r\n",
      "test-date-increment.ipynb\r\n",
      "text_from_pdf_v1_0.ipynb\r\n",
      "The Automation Solution for the 10 (Not So Simple) Steps to Machine Learning.ics\r\n",
      "\u001b[01;31mtopic-modelling-hansard-10-topics-output.tar.gz\u001b[0m\r\n",
      "topic-terms.csv\r\n",
      "UL_brand_interaction_pairs_shampoo_conditioner_2in1_top100.csv\r\n",
      "\u001b[01;35mUL Dendogram Shopper - shampoo-conditioner-2in1-top100-detailed-labels.png\u001b[0m\r\n",
      "\u001b[01;35mUL Dendogram Shopper - shampoo-conditioner-2in1-top100.png\u001b[0m\r\n",
      "\u001b[01;35mUL Dendogram Shopper - shampoo-conditioner-2in1-top100-section1.png\u001b[0m\r\n",
      "\u001b[01;35mUL Dendogram Shopper - shampoo-conditioner-2in1-top100-section2.png\u001b[0m\r\n",
      "\u001b[01;35mUL Dendogram Shopper - shampoo-conditioner-2in1-top100-section3.png\u001b[0m\r\n",
      "\u001b[01;35mUL Dendogram Shopper - shampoo-conditioner-2in1-top100-section4.png\u001b[0m\r\n",
      "\u001b[01;35mUL Dendogram Shopper - shampoo-conditioner-2in1-top100-section5.png\u001b[0m\r\n",
      "UL_epos_checksumv1_3.py\r\n",
      "UL GEM - Product and Brand Interactions Draft 2.pptx\r\n",
      "UL_merge_hierarhcy.ipynb\r\n",
      "UL Phase 2 Draft Timeline 120318 - D1 (1).xlsx\r\n",
      "UL Phase 2 Draft Timeline 120318 - D1.xlsx\r\n",
      "UL_product_loyalty_summary_shampoo.csv\r\n",
      "UL_promo_calendar_product_level.csv\r\n",
      "UL_promo_calendar_promo_level.csv\r\n",
      "UL_promo_data_prep_category.ipynb\r\n",
      "UL_promo_data_prep_category_v1_1 (1).ipynb\r\n",
      "UL_promo_data_prep_category_v1_1.ipynb\r\n",
      "UL_promo_data_prep_category_v1_2 (1).ipynb\r\n",
      "UL_promo_data_prep_category_v1_2 (2).ipynb\r\n",
      "UL_promo_data_prep_category_v1_2 (3).ipynb\r\n",
      "UL_promo_data_prep_category_v1_2.ipynb\r\n",
      "UL_promoted_products_shampoo_and_conditioner_category.csv\r\n",
      "UL_promotions_shampoo_and_conditioner_category.csv\r\n",
      "UL_S&C_category_modelling.ods\r\n",
      "UL S&C promo audit (1).pptx\r\n",
      "UL S&C promo audit.pptx\r\n",
      "UL_substitution_matrix_shampoo_conditioner_2in1_top100.csv\r\n",
      "Understanding our Most Valuable Customers v4.pptx\r\n",
      "Untitled.ipynb\r\n",
      "Uplift_method_check_v1_0 (1) (copy).ipynb\r\n",
      "Uplift_method_check_v1_0.ipynb\r\n",
      "Uplift_method_check_v1_1 (1).ipynb\r\n",
      "Uplift_method_check_v1_1.ipynb\r\n",
      "Your claim statement (1).pdf\r\n",
      "Your claim statement (3).pdf\r\n",
      "Your claim statement (4).pdf\r\n",
      "Your claim statement (5).pdf\r\n",
      "Your claim statement.pdf\r\n",
      "Your claim with VitalityHealth - claim form for completion.pdf\r\n"
     ]
    }
   ],
   "source": [
    "ls"
   ]
  },
  {
   "cell_type": "code",
   "execution_count": 28,
   "metadata": {},
   "outputs": [
    {
     "name": "stdout",
     "output_type": "stream",
     "text": [
      "/home/stuart/Work/dev/command-line-tool\n"
     ]
    }
   ],
   "source": [
    "cd /home/stuart/Work/dev/command-line-tool"
   ]
  },
  {
   "cell_type": "code",
   "execution_count": 29,
   "metadata": {},
   "outputs": [
    {
     "data": {
      "text/plain": [
       "'/home/stuart/Work/dev/command-line-tool'"
      ]
     },
     "execution_count": 29,
     "metadata": {},
     "output_type": "execute_result"
    }
   ],
   "source": [
    "pwd"
   ]
  },
  {
   "cell_type": "code",
   "execution_count": 30,
   "metadata": {
    "collapsed": true
   },
   "outputs": [],
   "source": [
    "mkdir test-create-dir"
   ]
  },
  {
   "cell_type": "code",
   "execution_count": 31,
   "metadata": {},
   "outputs": [
    {
     "name": "stdout",
     "output_type": "stream",
     "text": [
      "\u001b[0m\u001b[01;32m00_main.py\u001b[0m*                   \u001b[01;34mdist\u001b[0m/               \u001b[01;34mtest-create-dir\u001b[0m/\r\n",
      "00_main.spec                  \u001b[01;32mlocalfunctions.py\u001b[0m*  Untitled.ipynb\r\n",
      "01_catalogue_folder_level.py  \u001b[01;34m__pycache__\u001b[0m/\r\n",
      "\u001b[01;34mbuild\u001b[0m/                        setup_py2exe.py\r\n"
     ]
    }
   ],
   "source": [
    "ls"
   ]
  },
  {
   "cell_type": "code",
   "execution_count": null,
   "metadata": {
    "collapsed": true
   },
   "outputs": [],
   "source": []
  }
 ],
 "metadata": {
  "kernelspec": {
   "display_name": "Python 3",
   "language": "python",
   "name": "python3"
  },
  "language_info": {
   "codemirror_mode": {
    "name": "ipython",
    "version": 3
   },
   "file_extension": ".py",
   "mimetype": "text/x-python",
   "name": "python",
   "nbconvert_exporter": "python",
   "pygments_lexer": "ipython3",
   "version": "3.6.3"
  }
 },
 "nbformat": 4,
 "nbformat_minor": 2
}
